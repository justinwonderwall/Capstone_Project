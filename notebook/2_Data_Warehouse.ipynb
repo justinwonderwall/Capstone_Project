{
 "cells": [
  {
   "cell_type": "code",
   "execution_count": 32,
   "id": "8f94ff3a",
   "metadata": {},
   "outputs": [],
   "source": [
    "import pandas as pd\n",
    "# load data\n",
    "df = pd.read_csv('../data/processed/merged_data.csv')"
   ]
  },
  {
   "cell_type": "markdown",
   "id": "1133e5db",
   "metadata": {},
   "source": [
    "## Dim and Fact table"
   ]
  },
  {
   "cell_type": "markdown",
   "id": "cd436a0d",
   "metadata": {},
   "source": [
    "### Dim Table"
   ]
  },
  {
   "cell_type": "markdown",
   "id": "a9f813d6",
   "metadata": {},
   "source": [
    "FOE Table"
   ]
  },
  {
   "cell_type": "code",
   "execution_count": 36,
   "id": "e192cca5",
   "metadata": {},
   "outputs": [
    {
     "data": {
      "text/html": [
       "<div>\n",
       "<style scoped>\n",
       "    .dataframe tbody tr th:only-of-type {\n",
       "        vertical-align: middle;\n",
       "    }\n",
       "\n",
       "    .dataframe tbody tr th {\n",
       "        vertical-align: top;\n",
       "    }\n",
       "\n",
       "    .dataframe thead th {\n",
       "        text-align: right;\n",
       "    }\n",
       "</style>\n",
       "<table border=\"1\" class=\"dataframe\">\n",
       "  <thead>\n",
       "    <tr style=\"text-align: right;\">\n",
       "      <th></th>\n",
       "      <th>foe_code</th>\n",
       "      <th>FOE_name</th>\n",
       "    </tr>\n",
       "  </thead>\n",
       "  <tbody>\n",
       "    <tr>\n",
       "      <th>0</th>\n",
       "      <td>10100</td>\n",
       "      <td>Mathematical Sciences</td>\n",
       "    </tr>\n",
       "    <tr>\n",
       "      <th>1</th>\n",
       "      <td>10101</td>\n",
       "      <td>Mathematics</td>\n",
       "    </tr>\n",
       "    <tr>\n",
       "      <th>2</th>\n",
       "      <td>10103</td>\n",
       "      <td>Statistics</td>\n",
       "    </tr>\n",
       "    <tr>\n",
       "      <th>3</th>\n",
       "      <td>10199</td>\n",
       "      <td>Mathematical Sciences, n.e.c.</td>\n",
       "    </tr>\n",
       "    <tr>\n",
       "      <th>4</th>\n",
       "      <td>10300</td>\n",
       "      <td>Physics and Astronomy</td>\n",
       "    </tr>\n",
       "  </tbody>\n",
       "</table>\n",
       "</div>"
      ],
      "text/plain": [
       "   foe_code                       FOE_name\n",
       "0     10100          Mathematical Sciences\n",
       "1     10101                    Mathematics\n",
       "2     10103                     Statistics\n",
       "3     10199  Mathematical Sciences, n.e.c.\n",
       "4     10300          Physics and Astronomy"
      ]
     },
     "execution_count": 36,
     "metadata": {},
     "output_type": "execute_result"
    }
   ],
   "source": [
    "dim_foe = (\n",
    "  df.loc[:,['foe_code','foe_detailed']]\n",
    "    .drop_duplicates()\n",
    "    .rename(columns={'foe_detailed': 'FOE_name'})\n",
    "    .reset_index(drop=True)\n",
    ")\n",
    "dim_foe.head()"
   ]
  },
  {
   "cell_type": "markdown",
   "id": "0c5d3116",
   "metadata": {},
   "source": [
    "Fees Table"
   ]
  },
  {
   "cell_type": "code",
   "execution_count": 37,
   "id": "0d4f9006",
   "metadata": {},
   "outputs": [
    {
     "data": {
      "text/html": [
       "<div>\n",
       "<style scoped>\n",
       "    .dataframe tbody tr th:only-of-type {\n",
       "        vertical-align: middle;\n",
       "    }\n",
       "\n",
       "    .dataframe tbody tr th {\n",
       "        vertical-align: top;\n",
       "    }\n",
       "\n",
       "    .dataframe thead th {\n",
       "        text-align: right;\n",
       "    }\n",
       "</style>\n",
       "<table border=\"1\" class=\"dataframe\">\n",
       "  <thead>\n",
       "    <tr style=\"text-align: right;\">\n",
       "      <th></th>\n",
       "      <th>fee_code</th>\n",
       "      <th>funding_type</th>\n",
       "      <th>student_type</th>\n",
       "    </tr>\n",
       "  </thead>\n",
       "  <tbody>\n",
       "    <tr>\n",
       "      <th>0</th>\n",
       "      <td>1</td>\n",
       "      <td>C'wealth Supported</td>\n",
       "      <td>Domestic</td>\n",
       "    </tr>\n",
       "    <tr>\n",
       "      <th>1</th>\n",
       "      <td>2</td>\n",
       "      <td>Fee-Paying</td>\n",
       "      <td>Domestic</td>\n",
       "    </tr>\n",
       "    <tr>\n",
       "      <th>2</th>\n",
       "      <td>3</td>\n",
       "      <td>Onshore</td>\n",
       "      <td>International</td>\n",
       "    </tr>\n",
       "    <tr>\n",
       "      <th>3</th>\n",
       "      <td>4</td>\n",
       "      <td>Non-Award &amp; Others</td>\n",
       "      <td>Domestic</td>\n",
       "    </tr>\n",
       "    <tr>\n",
       "      <th>4</th>\n",
       "      <td>5</td>\n",
       "      <td>Onshore Exchange</td>\n",
       "      <td>International</td>\n",
       "    </tr>\n",
       "    <tr>\n",
       "      <th>5</th>\n",
       "      <td>6</td>\n",
       "      <td>Study Abroad</td>\n",
       "      <td>International</td>\n",
       "    </tr>\n",
       "    <tr>\n",
       "      <th>6</th>\n",
       "      <td>7</td>\n",
       "      <td>RTP</td>\n",
       "      <td>Domestic</td>\n",
       "    </tr>\n",
       "    <tr>\n",
       "      <th>7</th>\n",
       "      <td>8</td>\n",
       "      <td>RTP</td>\n",
       "      <td>International</td>\n",
       "    </tr>\n",
       "    <tr>\n",
       "      <th>8</th>\n",
       "      <td>9</td>\n",
       "      <td>Offshore</td>\n",
       "      <td>International</td>\n",
       "    </tr>\n",
       "  </tbody>\n",
       "</table>\n",
       "</div>"
      ],
      "text/plain": [
       "   fee_code        funding_type   student_type\n",
       "0         1  C'wealth Supported       Domestic\n",
       "1         2          Fee-Paying       Domestic\n",
       "2         3             Onshore  International\n",
       "3         4  Non-Award & Others       Domestic\n",
       "4         5    Onshore Exchange  International\n",
       "5         6        Study Abroad  International\n",
       "6         7                 RTP       Domestic\n",
       "7         8                 RTP  International\n",
       "8         9            Offshore  International"
      ]
     },
     "execution_count": 37,
     "metadata": {},
     "output_type": "execute_result"
    }
   ],
   "source": [
    "dim_fees = (\n",
    "    df.loc[df['funding_type'] != '0', ['funding_type', 'funding_nation']]\n",
    "    .drop_duplicates()\n",
    "    .rename(columns={'funding_nation': 'student_type'})\n",
    "    .reset_index(drop=True)\n",
    "    .assign(fee_code=lambda x: x.index + 1)\n",
    "    [['fee_code', 'funding_type', 'student_type']]\n",
    ")\n",
    "\n",
    "dim_fees.head(10)"
   ]
  },
  {
   "cell_type": "markdown",
   "id": "bf6a5fc0",
   "metadata": {},
   "source": [
    "Cluster Table"
   ]
  },
  {
   "cell_type": "code",
   "execution_count": 38,
   "id": "cff53c42",
   "metadata": {},
   "outputs": [
    {
     "data": {
      "text/html": [
       "<div>\n",
       "<style scoped>\n",
       "    .dataframe tbody tr th:only-of-type {\n",
       "        vertical-align: middle;\n",
       "    }\n",
       "\n",
       "    .dataframe tbody tr th {\n",
       "        vertical-align: top;\n",
       "    }\n",
       "\n",
       "    .dataframe thead th {\n",
       "        text-align: right;\n",
       "    }\n",
       "</style>\n",
       "<table border=\"1\" class=\"dataframe\">\n",
       "  <thead>\n",
       "    <tr style=\"text-align: right;\">\n",
       "      <th></th>\n",
       "      <th>cluster_code</th>\n",
       "      <th>funding_cluster</th>\n",
       "    </tr>\n",
       "  </thead>\n",
       "  <tbody>\n",
       "    <tr>\n",
       "      <th>0</th>\n",
       "      <td>1</td>\n",
       "      <td>Funding Cluster 2</td>\n",
       "    </tr>\n",
       "    <tr>\n",
       "      <th>1</th>\n",
       "      <td>2</td>\n",
       "      <td>Funding Cluster 3</td>\n",
       "    </tr>\n",
       "    <tr>\n",
       "      <th>2</th>\n",
       "      <td>3</td>\n",
       "      <td>Funding Cluster 4</td>\n",
       "    </tr>\n",
       "    <tr>\n",
       "      <th>3</th>\n",
       "      <td>4</td>\n",
       "      <td>Funding Cluster 1</td>\n",
       "    </tr>\n",
       "  </tbody>\n",
       "</table>\n",
       "</div>"
      ],
      "text/plain": [
       "   cluster_code    funding_cluster\n",
       "0             1  Funding Cluster 2\n",
       "1             2  Funding Cluster 3\n",
       "2             3  Funding Cluster 4\n",
       "3             4  Funding Cluster 1"
      ]
     },
     "execution_count": 38,
     "metadata": {},
     "output_type": "execute_result"
    }
   ],
   "source": [
    "dim_fundingcluster = (\n",
    "    df.loc[df['funding_cluster'] != '0', ['funding_cluster']]\n",
    "    .drop_duplicates()\n",
    "    .reset_index(drop=True)\n",
    "    .assign(cluster_code=lambda x: x.index + 1)\n",
    "    [['cluster_code','funding_cluster']]\n",
    ")\n",
    "\n",
    "dim_fundingcluster.head()"
   ]
  },
  {
   "cell_type": "markdown",
   "id": "f0f0e153",
   "metadata": {},
   "source": [
    "Course Table"
   ]
  },
  {
   "cell_type": "code",
   "execution_count": 41,
   "id": "ebe9d1a9",
   "metadata": {},
   "outputs": [
    {
     "data": {
      "text/html": [
       "<div>\n",
       "<style scoped>\n",
       "    .dataframe tbody tr th:only-of-type {\n",
       "        vertical-align: middle;\n",
       "    }\n",
       "\n",
       "    .dataframe tbody tr th {\n",
       "        vertical-align: top;\n",
       "    }\n",
       "\n",
       "    .dataframe thead th {\n",
       "        text-align: right;\n",
       "    }\n",
       "</style>\n",
       "<table border=\"1\" class=\"dataframe\">\n",
       "  <thead>\n",
       "    <tr style=\"text-align: right;\">\n",
       "      <th></th>\n",
       "      <th>course_id</th>\n",
       "      <th>course_type</th>\n",
       "    </tr>\n",
       "  </thead>\n",
       "  <tbody>\n",
       "    <tr>\n",
       "      <th>0</th>\n",
       "      <td>2951.0</td>\n",
       "      <td>Undergraduate</td>\n",
       "    </tr>\n",
       "    <tr>\n",
       "      <th>1</th>\n",
       "      <td>2954.0</td>\n",
       "      <td>Undergraduate</td>\n",
       "    </tr>\n",
       "    <tr>\n",
       "      <th>2</th>\n",
       "      <td>2976.0</td>\n",
       "      <td>Undergraduate</td>\n",
       "    </tr>\n",
       "    <tr>\n",
       "      <th>3</th>\n",
       "      <td>2978.0</td>\n",
       "      <td>Undergraduate</td>\n",
       "    </tr>\n",
       "    <tr>\n",
       "      <th>4</th>\n",
       "      <td>3028.0</td>\n",
       "      <td>Undergraduate</td>\n",
       "    </tr>\n",
       "  </tbody>\n",
       "</table>\n",
       "</div>"
      ],
      "text/plain": [
       "   course_id    course_type\n",
       "0     2951.0  Undergraduate\n",
       "1     2954.0  Undergraduate\n",
       "2     2976.0  Undergraduate\n",
       "3     2978.0  Undergraduate\n",
       "4     3028.0  Undergraduate"
      ]
     },
     "execution_count": 41,
     "metadata": {},
     "output_type": "execute_result"
    }
   ],
   "source": [
    "dim_course = (\n",
    "    df.loc[df['course_id'] != 0, ['course_id', 'course_type_broad']]\n",
    "    .drop_duplicates()\n",
    "    .reset_index(drop=True)\n",
    "    .rename(columns={'course_type_broad':'course_type'})\n",
    ")\n",
    "\n",
    "dim_course.head()"
   ]
  },
  {
   "cell_type": "markdown",
   "id": "e82c4273",
   "metadata": {},
   "source": [
    "Fact Table"
   ]
  },
  {
   "cell_type": "code",
   "execution_count": 47,
   "id": "d33e8f89",
   "metadata": {},
   "outputs": [
    {
     "data": {
      "text/plain": [
       "Index(['course_id', 'course_type_broad', 'unit_id', 'unit_level_code',\n",
       "       'unit_level_name', 'unit_foe_detailed', 'unit_foe_narrow', 'foe_code',\n",
       "       'unit_foe_broad', 'eftsl_2024', 'funding_nation', 'funding_type',\n",
       "       'overload', 'funding_cluster', 'max_student_contrib_2024',\n",
       "       'commonwealth_contrib_2024', 'max_student_contrib_gf_2024',\n",
       "       'commonwealth_contrib_gf_2024', 'is_funding_cluster_variable',\n",
       "       'special_course_code', 'max_contrib_indicator', 'foe_detailed_title',\n",
       "       'foe_detailed', 'foe_narrow', 'foe_broad', 'foe_error', 'special_code',\n",
       "       'CSP_gov_payment'],\n",
       "      dtype='object')"
      ]
     },
     "execution_count": 47,
     "metadata": {},
     "output_type": "execute_result"
    }
   ],
   "source": [
    "df.columns"
   ]
  },
  {
   "cell_type": "code",
   "execution_count": 49,
   "id": "8a68f1a0",
   "metadata": {},
   "outputs": [
    {
     "data": {
      "text/plain": [
       "funding_type\n",
       "C'wealth Supported    10528\n",
       "Onshore                5121\n",
       "Fee-Paying              733\n",
       "Onshore Exchange        568\n",
       "RTP                     328\n",
       "Study Abroad            237\n",
       "0                       225\n",
       "Non-Award & Others      150\n",
       "Offshore                  3\n",
       "Name: count, dtype: int64"
      ]
     },
     "execution_count": 49,
     "metadata": {},
     "output_type": "execute_result"
    }
   ],
   "source": [
    "df['funding_type'].value_counts()"
   ]
  },
  {
   "cell_type": "code",
   "execution_count": 58,
   "id": "7bf46143",
   "metadata": {},
   "outputs": [
    {
     "data": {
      "text/plain": [
       "10162"
      ]
     },
     "execution_count": 58,
     "metadata": {},
     "output_type": "execute_result"
    }
   ],
   "source": [
    "fact_table = (\n",
    "    df.loc[\n",
    "        (df['is_funding_cluster_variable'] != '0') &\n",
    "        (df['funding_nation'] == 'Domestic') &\n",
    "        (df['funding_type'] == \"C'wealth Supported\"),\n",
    "\n",
    "        ['foe_code', 'eftsl_2024', 'CSP_gov_payment']\n",
    "    ]\n",
    "    .reset_index(drop=True)\n",
    "    .rename(columns={'eftsl_2024': 'eftsl'})\n",
    ")\n",
    "\n",
    "len(fact_table['foe_code'])"
   ]
  }
 ],
 "metadata": {
  "kernelspec": {
   "display_name": "ml",
   "language": "python",
   "name": "python3"
  },
  "language_info": {
   "codemirror_mode": {
    "name": "ipython",
    "version": 3
   },
   "file_extension": ".py",
   "mimetype": "text/x-python",
   "name": "python",
   "nbconvert_exporter": "python",
   "pygments_lexer": "ipython3",
   "version": "3.12.9"
  }
 },
 "nbformat": 4,
 "nbformat_minor": 5
}
